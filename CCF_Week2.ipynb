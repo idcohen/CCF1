{
 "cells": [
  {
   "cell_type": "code",
   "execution_count": 1,
   "id": "5ccfcc49-6666-43cc-9ab3-1d294c813687",
   "metadata": {},
   "outputs": [
    {
     "name": "stdout",
     "output_type": "stream",
     "text": [
      "hello world\n"
     ]
    }
   ],
   "source": [
    "print(\"hello world\")"
   ]
  },
  {
   "cell_type": "markdown",
   "id": "fa1041d0-329b-49f0-88b4-9cb2ce53d358",
   "metadata": {},
   "source": [
    "## Reference \n",
    "\n",
    "https://docs.github.com/en/get-started/writing-on-github/getting-started-with-writing-and-formatting-on-github/basic-writing-and-formatting-syntax"
   ]
  },
  {
   "cell_type": "markdown",
   "id": "88e22cb8-526c-423a-8ae5-bc0d4c1c72aa",
   "metadata": {},
   "source": [
    "# The largest heading\n",
    "## The second largest heading\n",
    "###### The smallest heading"
   ]
  },
  {
   "cell_type": "markdown",
   "id": "e8ceb7e1-d1ef-430b-8fae-ad67e6741759",
   "metadata": {},
   "source": [
    "**This is bold text**\n",
    "\n",
    "*This text is italicized*\n",
    "\n",
    "~~This was mistaken text~~\n",
    "\n",
    "**This text is _extremely_ important**\n",
    "\n",
    "***All this text is important***"
   ]
  },
  {
   "cell_type": "markdown",
   "id": "23541de6-8225-48f2-afe7-c544fa54f5ce",
   "metadata": {},
   "source": [
    "Text that is not a quote\n",
    "\n",
    "> Text that is a quote"
   ]
  },
  {
   "cell_type": "markdown",
   "id": "44ec9069-16ba-44c9-9cb9-64a77e2ab5ae",
   "metadata": {},
   "source": [
    "Some basic Git commands are:\n",
    "```\n",
    "git status\n",
    "git add\n",
    "git commit\n",
    "```"
   ]
  },
  {
   "cell_type": "markdown",
   "id": "795da972-dcf6-48da-a04a-547475ccfd3d",
   "metadata": {},
   "source": [
    "**Links**\n",
    "\n",
    "This site was built using [GitHub Pages](https://pages.github.com/)."
   ]
  },
  {
   "cell_type": "markdown",
   "id": "a68e392c-d8bb-4b76-b309-e4e1394bcc47",
   "metadata": {},
   "source": [
    "**Relative Links**\n",
    "\n",
    "[Contribution guidelines for this project](docs/CONTRIBUTING.md)"
   ]
  },
  {
   "cell_type": "markdown",
   "id": "6f506e13-2b17-4fb3-8f46-7e1415e0930b",
   "metadata": {},
   "source": [
    "**Images**\n",
    "\n",
    "![This is an image](https://myoctocat.com/assets/images/base-octocat.svg)\n",
    "![GitHub Light](https://github.com/github-light.png#gh-dark-mode-only)"
   ]
  },
  {
   "cell_type": "markdown",
   "id": "00a0d7f4-34f1-4c31-b24e-267ac9d24159",
   "metadata": {},
   "source": [
    "**Lists**\n",
    "\n",
    "***Unordered***\n",
    "- George Washington\n",
    "- John Adams\n",
    "- Thomas Jefferson\n",
    "\n",
    "***ordered***\n",
    "1. James Madison\n",
    "2. James Monroe\n",
    "3. John Quincy Adams\n",
    "\n",
    "***Nested***\n",
    "1. First list item\n",
    "   - First nested list item\n",
    "     - Second nested list item\n",
    "     \n",
    "***Task***\n",
    "- [x] #739\n",
    "- [ ] https://github.com/octo-org/octo-repo/issues/740\n",
    "- [ ] Add delight to the experience when all tasks are complete :tada:"
   ]
  },
  {
   "cell_type": "markdown",
   "id": "3c2a0174-cdb5-4ae1-92d9-8bb9ec283f7b",
   "metadata": {},
   "source": [
    "***Footnotes***\n",
    "\n",
    "ere is a simple footnote[^1].\n",
    "\n",
    "A footnote can also have multiple lines[^2].  \n",
    "\n",
    "You can also use words, to fit your writing style more closely[^note].\n",
    "\n",
    "[^1]: My reference.\n",
    "[^2]: Every new line should be prefixed with 2 spaces.  \n",
    "  This allows you to have a footnote with multiple lines.\n",
    "[^note]:\n",
    "    Named footnotes will still render with numbers instead of the text but allow easier identification and linking.  \n",
    "    This footnote also has been made with a different syntax using 4 spaces"
   ]
  }
 ],
 "metadata": {
  "kernelspec": {
   "display_name": "Python 3.9",
   "language": "python",
   "name": "py3.9"
  },
  "language_info": {
   "codemirror_mode": {
    "name": "ipython",
    "version": 3
   },
   "file_extension": ".py",
   "mimetype": "text/x-python",
   "name": "python",
   "nbconvert_exporter": "python",
   "pygments_lexer": "ipython3",
   "version": "3.9.7"
  }
 },
 "nbformat": 4,
 "nbformat_minor": 5
}
